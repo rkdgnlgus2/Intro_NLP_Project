{
 "cells": [
  {
   "cell_type": "code",
   "execution_count": 41,
   "metadata": {},
   "outputs": [],
   "source": [
    "from SmilesPE.pretokenizer import atomwise_tokenizer\n",
    "import os\n",
    "import pandas as pd\n",
    "from rdkit.Chem import MolFromSmiles, MolToSmiles\n",
    "from transformers import AutoTokenizer, AutoConfig, AutoModel\n",
    "import json"
   ]
  },
  {
   "cell_type": "code",
   "execution_count": 34,
   "metadata": {},
   "outputs": [],
   "source": [
    "MODEL_NAME = 'seyonec/PubChem10M_SMILES_BPE_180k'\n",
    "MODEL_PATH = './model/'"
   ]
  },
  {
   "cell_type": "code",
   "execution_count": 13,
   "metadata": {},
   "outputs": [
    {
     "name": "stdout",
     "output_type": "stream",
     "text": [
      "['C', 'C', '[N+]', '(', 'C', ')', '(', 'C', ')', 'C', 'c', '1', 'c', 'c', 'c', 'c', 'c', '1', 'Br']\n"
     ]
    }
   ],
   "source": [
    "smi = 'CC[N+](C)(C)Cc1ccccc1Br'\n",
    "toks = atomwise_tokenizer(smi)\n",
    "print(toks)"
   ]
  },
  {
   "cell_type": "code",
   "execution_count": 14,
   "metadata": {},
   "outputs": [],
   "source": [
    "smiles_df = pd.read_csv('data/sider_smiles.csv')"
   ]
  },
  {
   "cell_type": "code",
   "execution_count": 15,
   "metadata": {},
   "outputs": [
    {
     "data": {
      "text/html": [
       "<div>\n",
       "<style scoped>\n",
       "    .dataframe tbody tr th:only-of-type {\n",
       "        vertical-align: middle;\n",
       "    }\n",
       "\n",
       "    .dataframe tbody tr th {\n",
       "        vertical-align: top;\n",
       "    }\n",
       "\n",
       "    .dataframe thead th {\n",
       "        text-align: right;\n",
       "    }\n",
       "</style>\n",
       "<table border=\"1\" class=\"dataframe\">\n",
       "  <thead>\n",
       "    <tr style=\"text-align: right;\">\n",
       "      <th></th>\n",
       "      <th>cid</th>\n",
       "      <th>name</th>\n",
       "      <th>smiles</th>\n",
       "    </tr>\n",
       "  </thead>\n",
       "  <tbody>\n",
       "    <tr>\n",
       "      <th>0</th>\n",
       "      <td>85</td>\n",
       "      <td>carnitine</td>\n",
       "      <td>C[N+](C)(C)CC(CC(=O)O)O</td>\n",
       "    </tr>\n",
       "    <tr>\n",
       "      <th>1</th>\n",
       "      <td>119</td>\n",
       "      <td>gamma-aminobutyric</td>\n",
       "      <td>C(CC(=O)O)CN</td>\n",
       "    </tr>\n",
       "    <tr>\n",
       "      <th>2</th>\n",
       "      <td>137</td>\n",
       "      <td>5-aminolevulinic</td>\n",
       "      <td>C(CC(=O)O)C(=O)CN</td>\n",
       "    </tr>\n",
       "    <tr>\n",
       "      <th>3</th>\n",
       "      <td>143</td>\n",
       "      <td>leucovorin</td>\n",
       "      <td>C1C(N(C2=C(N1)NC(=NC2=O)N)C=O)CNC3=CC=C(C=C3)C...</td>\n",
       "    </tr>\n",
       "    <tr>\n",
       "      <th>4</th>\n",
       "      <td>146</td>\n",
       "      <td>5-methyltetrahydrofolate</td>\n",
       "      <td>CN1C(CNC2=C1C(=O)N=C(N2)N)CNC3=CC=C(C=C3)C(=O)...</td>\n",
       "    </tr>\n",
       "  </tbody>\n",
       "</table>\n",
       "</div>"
      ],
      "text/plain": [
       "   cid                      name  \\\n",
       "0   85                 carnitine   \n",
       "1  119        gamma-aminobutyric   \n",
       "2  137          5-aminolevulinic   \n",
       "3  143                leucovorin   \n",
       "4  146  5-methyltetrahydrofolate   \n",
       "\n",
       "                                              smiles  \n",
       "0                            C[N+](C)(C)CC(CC(=O)O)O  \n",
       "1                                       C(CC(=O)O)CN  \n",
       "2                                  C(CC(=O)O)C(=O)CN  \n",
       "3  C1C(N(C2=C(N1)NC(=NC2=O)N)C=O)CNC3=CC=C(C=C3)C...  \n",
       "4  CN1C(CNC2=C1C(=O)N=C(N2)N)CNC3=CC=C(C=C3)C(=O)...  "
      ]
     },
     "execution_count": 15,
     "metadata": {},
     "output_type": "execute_result"
    }
   ],
   "source": [
    "smiles_df.head()"
   ]
  },
  {
   "cell_type": "code",
   "execution_count": 35,
   "metadata": {},
   "outputs": [],
   "source": [
    "def make_tokenizer():\n",
    "    tokenizer = AutoTokenizer.from_pretrained(f'{MODEL_NAME}', normalization=True, caeche_dir='./cache')\n",
    "    tokenizer.save_pretrained(f'{MODEL_PATH}')\n",
    "    print(f'tokenizer object load & save......[{MODEL_NAME}]')\n",
    "\n",
    "    example = \"Cn1c(=O)c2c(ncn2C)n(C)c1=O\"\n",
    "    tokens = tokenizer(example) # example\n",
    "    tokens_ = tokenizer.tokenize(example) # example\n",
    "    print(tokens)\n",
    "    print(tokens_)\n",
    "    \n",
    "    return tokenizer"
   ]
  },
  {
   "cell_type": "code",
   "execution_count": 39,
   "metadata": {},
   "outputs": [
    {
     "name": "stderr",
     "output_type": "stream",
     "text": [
      "[00:57:58] WARNING: not removing hydrogen atom without neighbors\n",
      "[00:57:58] WARNING: not removing hydrogen atom without neighbors\n",
      "[00:57:58] WARNING: not removing hydrogen atom without neighbors\n",
      "[00:57:58] WARNING: not removing hydrogen atom without neighbors\n",
      "[00:57:58] WARNING: not removing hydrogen atom without neighbors\n",
      "[00:57:58] WARNING: not removing hydrogen atom without neighbors\n",
      "[00:57:58] WARNING: not removing hydrogen atom without neighbors\n",
      "[00:57:58] WARNING: not removing hydrogen atom without neighbors\n",
      "[00:57:58] WARNING: not removing hydrogen atom without neighbors\n",
      "[00:57:58] WARNING: not removing hydrogen atom without neighbors\n",
      "[00:57:58] WARNING: not removing hydrogen atom without neighbors\n",
      "[00:57:58] WARNING: not removing hydrogen atom without neighbors\n",
      "[00:57:58] WARNING: not removing hydrogen atom without neighbors\n"
     ]
    }
   ],
   "source": [
    "mol = MolFromSmiles(smiles_df['smiles'][0])\n",
    "smiles = MolToSmiles(mol,doRandom=True)\n",
    "MAKE_PER_MOL = 10\n",
    "\n",
    "smiles_list = []\n",
    "for cid, name, smi in zip(smiles_df['cid'], smiles_df['name'], smiles_df['smiles']):\n",
    "    new_smiles = []\n",
    "    mol = MolFromSmiles(smi)\n",
    "    for i in range(MAKE_PER_MOL):\n",
    "        new_smiles.append(MolToSmiles(mol,doRandom=True))\n",
    "    smiles_list.append({\n",
    "        'cid': cid,\n",
    "        'name': name,\n",
    "        'smiles': new_smiles\n",
    "    })"
   ]
  },
  {
   "cell_type": "code",
   "execution_count": 42,
   "metadata": {},
   "outputs": [],
   "source": [
    "with open('data/sider_smiles.json', 'w') as f:\n",
    "    json.dump(smiles_list, f)"
   ]
  },
  {
   "cell_type": "code",
   "execution_count": 6,
   "metadata": {},
   "outputs": [],
   "source": []
  },
  {
   "cell_type": "code",
   "execution_count": 7,
   "metadata": {},
   "outputs": [],
   "source": [
    "sider_names['cid'].replace('CID\\d', '', regex=True, inplace=True)\n",
    "sider_names['cid'] = sider_names['cid'].astype(int)"
   ]
  },
  {
   "cell_type": "code",
   "execution_count": 8,
   "metadata": {},
   "outputs": [
    {
     "name": "stderr",
     "output_type": "stream",
     "text": [
      "100%|██████████| 1430/1430 [24:48<00:00,  1.04s/it]\n"
     ]
    }
   ],
   "source": [
    "sider_smiles = []\n",
    "\n",
    "for i, row in tqdm(sider_names.iterrows(), total=len(sider_names)):\n",
    "    try:\n",
    "        compound = pcp.Compound.from_cid(row[\"cid\"])\n",
    "        sider_smiles.append(\n",
    "            {\"cid\": row[\"cid\"], \"name\": row[\"name\"], \"smiles\": compound.isomeric_smiles},\n",
    "        )\n",
    "    except:\n",
    "        print(\"Error: \", row[\"cid\"], row[\"name\"])\n",
    "        pass\n"
   ]
  },
  {
   "cell_type": "code",
   "execution_count": 9,
   "metadata": {},
   "outputs": [],
   "source": [
    "sider_smiles_df = pandas.DataFrame(sider_smiles)\n",
    "sider_smiles_df.to_csv(\"./data/sider_smiles.csv\", index=False)"
   ]
  },
  {
   "cell_type": "code",
   "execution_count": null,
   "metadata": {},
   "outputs": [],
   "source": []
  }
 ],
 "metadata": {
  "kernelspec": {
   "display_name": "Python 3.10.8 ('venv': venv)",
   "language": "python",
   "name": "python3"
  },
  "language_info": {
   "codemirror_mode": {
    "name": "ipython",
    "version": 3
   },
   "file_extension": ".py",
   "mimetype": "text/x-python",
   "name": "python",
   "nbconvert_exporter": "python",
   "pygments_lexer": "ipython3",
   "version": "3.10.8"
  },
  "orig_nbformat": 4,
  "vscode": {
   "interpreter": {
    "hash": "3bca2adbe3e527dfd8814b6bec6444f0f97c0b63f3a6c65c1c886a1622b466f2"
   }
  }
 },
 "nbformat": 4,
 "nbformat_minor": 2
}
